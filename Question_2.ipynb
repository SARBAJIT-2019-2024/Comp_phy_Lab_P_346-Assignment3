{
 "cells": [
  {
   "cell_type": "code",
   "execution_count": 1,
   "source": [
    "#Question2\r\n",
    "#Use Gauss-Jordon elimination to find the solution of the following system of linear equations\r\n",
    "\r\n",
    "#2y − 3z = −1\r\n",
    "#x + z = 0\r\n",
    "#x − y = 3\r\n",
    "\r\n",
    "\r\n",
    "#Readable augmented matrix form:\r\n",
    "#Entering one matrix C=[A|b]\r\n",
    "\r\n",
    "# C=         _              _\r\n",
    "# [A | b] = | 0 2 -3   | -1  |\r\n",
    "#           | 1 0  1   |  0  |\r\n",
    "#           |_1 -1 0   |  3 _|\r\n",
    "#              \r\n",
    "#Readable augmented matrix form:\r\n",
    "#Entering one matrix C=[A|b]\r\n",
    "\r\n",
    "\r\n",
    "\r\n",
    " #importing gauss Jordan function from library\r\n",
    "from My_Lib import Gauss_jordan\r\n",
    "\r\n",
    "\r\n",
    "list_C=[]\r\n",
    "with open(\"matrix2.txt\") as matC:\r\n",
    "    for k in matC:\r\n",
    "        list_C.append(list(map(float, k.split())))\r\n",
    "\r\n",
    "#######################################\r\n",
    "#Criterion for exististance of solution\r\n",
    "a,b=Gauss_jordan(list_C)\r\n",
    "if (a,b) != (None,None):\r\n",
    "    print(\"Solution of the given Linear equation is:\")#output rounded upto 3 places of decimal\r\n",
    "    print(\"x = %.2f\"%b[0])\r\n",
    "    print(\"y = %.2f\"%b[1])\r\n",
    "    print(\"z = %.2f\"%b[2])\r\n",
    "    \r\n",
    "else:\r\n",
    "    print(\"No unique solution exist for the given equation\") \r\n"
   ],
   "outputs": [
    {
     "output_type": "stream",
     "name": "stdout",
     "text": [
      "Solution of the given Linear equation is:\n",
      "x = 1.00\n",
      "y = -2.00\n",
      "z = -1.00\n"
     ]
    }
   ],
   "metadata": {}
  }
 ],
 "metadata": {
  "orig_nbformat": 4,
  "language_info": {
   "name": "python",
   "version": "3.9.6",
   "mimetype": "text/x-python",
   "codemirror_mode": {
    "name": "ipython",
    "version": 3
   },
   "pygments_lexer": "ipython3",
   "nbconvert_exporter": "python",
   "file_extension": ".py"
  },
  "kernelspec": {
   "name": "python3",
   "display_name": "Python 3.9.6 64-bit"
  },
  "interpreter": {
   "hash": "dcacb0086e9a4f4eabd41c33bf4faac5ea0a3337ed3f5eff0680afa930572c04"
  }
 },
 "nbformat": 4,
 "nbformat_minor": 2
}