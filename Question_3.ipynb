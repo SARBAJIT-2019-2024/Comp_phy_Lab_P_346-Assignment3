{
 "cells": [
  {
   "cell_type": "code",
   "execution_count": 1,
   "source": [
    "# Question 3\r\n",
    "#Find the inverse of the following invertible matrix using Gauss-Jordon elimination. Keep only up to 2 places in decimal. Verify that your solution is indeed the inverse of the given matrix.\r\n",
    "# \r\n",
    "# [A|b] = \r\n",
    "#  _                _\r\n",
    "# |  0 2 1  | 1 0 0  |         \r\n",
    "# |  4 0 1  | 0 1 0  |      \r\n",
    "# |_ −1 2 0 | 0 0 1 _|      \r\n",
    "\r\n",
    "\r\n",
    "\r\n",
    "\r\n",
    "#calling the matrix in readable form\r\n",
    "#importing functions from library\r\n",
    "from My_Lib import Gauss_jordan\r\n",
    "from My_Lib import matrix_mul\r\n",
    "\r\n",
    "#calling the matrix in readable form\r\n",
    "list_C=[]\r\n",
    "with open(\"matrix3.txt\") as matC:\r\n",
    "    for k in matC:\r\n",
    "        list_C.append(list(map(float, k.split())))\r\n",
    "\r\n",
    "\r\n",
    "\r\n",
    "\r\n",
    "#using the gauss jordan function\r\n",
    "a,b=Gauss_jordan(list_C)\r\n",
    "print(\"The Inverse of the given matrix is A[-1]:\")\r\n",
    "\r\n",
    "# Print the inverse matrix in readable form\r\n",
    "for i in range(len(b)):\r\n",
    "    for j in range(len(b)):\r\n",
    "        print(\"%.2f\"%b[i][j],end =' ') #each element of the matrix is rounded upto 2 places of decimal\r\n",
    "    print()    \r\n",
    "    \r\n",
    "#verification of A*A[-1]=I, which verifies the inverse is correct or not\r\n",
    "\r\n",
    "print(\"\\n Verification of A*A[-1] = I\")\r\n",
    "\r\n",
    "list_d=matrix_mul(list_C,b)\r\n",
    "for i in range(len(list_d)):\r\n",
    "    for j in range(len(list_d)):\r\n",
    "        print(\"%.2f\"%list_d[i][j],end =' ') #each element of the matrix is rounded upto 2 places of decimal\r\n",
    "    print()  \r\n",
    "\r\n",
    "\r\n",
    "\r\n",
    "\r\n"
   ],
   "outputs": [
    {
     "output_type": "stream",
     "name": "stdout",
     "text": [
      "The Inverse of the given matrix is A[-1]:\n",
      "-0.33 0.33 0.33 \n",
      "-0.17 0.17 0.67 \n",
      "1.33 -0.33 -1.33 \n",
      "\n",
      " Verification of A*A[-1] = I\n",
      "1.00 0.00 0.00 \n",
      "0.00 1.00 0.00 \n",
      "0.00 0.00 1.00 \n"
     ]
    }
   ],
   "metadata": {}
  }
 ],
 "metadata": {
  "orig_nbformat": 4,
  "language_info": {
   "name": "python",
   "version": "3.9.6",
   "mimetype": "text/x-python",
   "codemirror_mode": {
    "name": "ipython",
    "version": 3
   },
   "pygments_lexer": "ipython3",
   "nbconvert_exporter": "python",
   "file_extension": ".py"
  },
  "kernelspec": {
   "name": "python3",
   "display_name": "Python 3.9.6 64-bit"
  },
  "interpreter": {
   "hash": "dcacb0086e9a4f4eabd41c33bf4faac5ea0a3337ed3f5eff0680afa930572c04"
  }
 },
 "nbformat": 4,
 "nbformat_minor": 2
}