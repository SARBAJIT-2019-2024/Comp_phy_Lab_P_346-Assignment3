{
 "cells": [
  {
   "cell_type": "code",
   "execution_count": 1,
   "source": [
    "#Question1\r\n",
    "#Use Gauss-Jordon elimination to find the solution of the following system of linear equations\r\n",
    "\r\n",
    "# x + y + z + w = 13\r\n",
    "# 2x + 3y − w = −1\r\n",
    "# −3x + 4y + z + 2w = 10\r\n",
    "# x + 2y − z + w = 1\r\n",
    "\r\n",
    "\r\n",
    "#Augmented form has been entered to matrix2.txt\r\n",
    "\r\n",
    "#              _               _\r\n",
    "# C= [A | b]= | 1 1 1 1   | 13  |  \r\n",
    "#             | 2 3 0 -1  | -1  |\r\n",
    "#             | -3 4 1 2  | 10  | \r\n",
    "#             |_ 1 2 -1 1 |  1 _|\r\n",
    "#         \r\n",
    "\r\n",
    "\r\n",
    "\r\n",
    "#importing gauss Jordan from library\r\n",
    "from My_Lib import Gauss_jordan\r\n",
    "\r\n",
    "\r\n",
    "\r\n",
    "# inserting matrix C\r\n",
    "list_C=[]\r\n",
    "with open(\"matrix1.txt\") as matC:\r\n",
    "    for k in matC:\r\n",
    "        list_C.append(list(map(float, k.split())))\r\n",
    "\r\n",
    "\r\n",
    "#######################################\r\n",
    "#Criterion for when exististance of solution\r\n",
    "a,b=Gauss_jordan(list_C)  \r\n",
    "if (a,b) != (None,None):\r\n",
    "    print(\"Solution of the given Linear equation is:\") #output rounded upto 3 places of decimal\r\n",
    "    print(\"x = %.2f\" %b[0])\r\n",
    "    print(\"y = %.2f\" %b[1])\r\n",
    "    print(\"z = %.2f\" %b[2])\r\n",
    "    print(\"w = %.2f\" %b[3])\r\n",
    "else:\r\n",
    "    print(\"No unique solutions exist\")    "
   ],
   "outputs": [
    {
     "output_type": "stream",
     "name": "stdout",
     "text": [
      "Solution of the given Linear equation is:\n",
      "x = 2.00\n",
      "y = -0.00\n",
      "z = 6.00\n",
      "w = 5.00\n"
     ]
    }
   ],
   "metadata": {}
  }
 ],
 "metadata": {
  "orig_nbformat": 4,
  "language_info": {
   "name": "python",
   "version": "3.9.6",
   "mimetype": "text/x-python",
   "codemirror_mode": {
    "name": "ipython",
    "version": 3
   },
   "pygments_lexer": "ipython3",
   "nbconvert_exporter": "python",
   "file_extension": ".py"
  },
  "kernelspec": {
   "name": "python3",
   "display_name": "Python 3.9.6 64-bit"
  },
  "interpreter": {
   "hash": "dcacb0086e9a4f4eabd41c33bf4faac5ea0a3337ed3f5eff0680afa930572c04"
  }
 },
 "nbformat": 4,
 "nbformat_minor": 2
}