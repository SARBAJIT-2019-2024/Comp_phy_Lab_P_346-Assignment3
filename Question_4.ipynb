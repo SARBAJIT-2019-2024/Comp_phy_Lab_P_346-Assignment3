{
 "cells": [
  {
   "cell_type": "code",
   "execution_count": 3,
   "source": [
    "#Use Gauss-Jordon elimination to determine the determinant of the matrix, \r\n",
    "\r\n",
    "#             1 4 2 3\r\n",
    "#             0 1 4 4\r\n",
    "#            −1 0 1 0\r\n",
    "#             2 0 4 1\r\n",
    "\r\n",
    "\r\n",
    "   \r\n",
    "#importing the determinant calculator function from library          \r\n",
    "from My_Lib import determinant_calc \r\n",
    "\r\n",
    "#Readable augmented matrix form:\r\n",
    "\r\n",
    "list_C=[]\r\n",
    "with open(\"matrix4.txt\") as matC:\r\n",
    "    for k in matC:\r\n",
    "        list_C.append(list(map(float, k.split())))\r\n",
    "\r\n",
    "\r\n",
    "print(\"The determinant is:\")       \r\n",
    "determinant_calc(list_C)\r\n",
    "\r\n",
    "\r\n"
   ],
   "outputs": [
    {
     "output_type": "stream",
     "name": "stdout",
     "text": [
      "The determinant is:\n"
     ]
    },
    {
     "output_type": "execute_result",
     "data": {
      "text/plain": [
       "65.0"
      ]
     },
     "metadata": {},
     "execution_count": 3
    }
   ],
   "metadata": {}
  }
 ],
 "metadata": {
  "orig_nbformat": 4,
  "language_info": {
   "name": "python",
   "version": "3.9.6",
   "mimetype": "text/x-python",
   "codemirror_mode": {
    "name": "ipython",
    "version": 3
   },
   "pygments_lexer": "ipython3",
   "nbconvert_exporter": "python",
   "file_extension": ".py"
  },
  "kernelspec": {
   "name": "python3",
   "display_name": "Python 3.9.6 64-bit"
  },
  "interpreter": {
   "hash": "dcacb0086e9a4f4eabd41c33bf4faac5ea0a3337ed3f5eff0680afa930572c04"
  }
 },
 "nbformat": 4,
 "nbformat_minor": 2
}